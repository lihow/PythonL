{
 "cells": [
  {
   "cell_type": "markdown",
   "metadata": {},
   "source": [
    "参考文档：  \n",
    "https://blog.csdn.net/Zach_z/article/details/78588362"
   ]
  },
  {
   "cell_type": "markdown",
   "metadata": {},
   "source": [
    "## 简介"
   ]
  },
  {
   "cell_type": "markdown",
   "metadata": {},
   "source": [
    "NumPy是一个开源的Python科学计算基础库，包含: \n",
    "- 一个强大的N维数组对象 ndarray \n",
    "- 广播功能函数 \n",
    "- 整合C/C++/Fortran代码的工具 \n",
    "- 线性代数、傅里叶变换、随机数生成等功能"
   ]
  },
  {
   "cell_type": "markdown",
   "metadata": {},
   "source": [
    "NumPy的引用:"
   ]
  },
  {
   "cell_type": "code",
   "execution_count": 1,
   "metadata": {
    "collapsed": true
   },
   "outputs": [],
   "source": [
    "import numpy as np"
   ]
  },
  {
   "cell_type": "markdown",
   "metadata": {},
   "source": [
    "## N维数组对象：ndarray"
   ]
  },
  {
   "cell_type": "markdown",
   "metadata": {},
   "source": [
    "ndarray是一个多维数组对象，由两部分构成: \n",
    "- 实际的数据 \n",
    "- 描述这些数据的元数据(数据维度、数据类型等)  \n",
    "\n",
    "ndarray数组一般要求所有元素类型相同(同质)，数组下标从0开始"
   ]
  },
  {
   "cell_type": "markdown",
   "metadata": {},
   "source": [
    "### ndarray对象的属性"
   ]
  },
  {
   "cell_type": "markdown",
   "metadata": {},
   "source": [
    "属性 | 说明  \n",
    ":- | :- \n",
    ".ndim | 维度的数量 \n",
    ".size | ndarray对象的尺度，对于矩阵，n行m列 \n",
    ".dtype |ndarray对象的元素类型\n",
    ".itemsize |ndarray对象中每个元素的大小，以字节为单位"
   ]
  },
  {
   "cell_type": "code",
   "execution_count": 3,
   "metadata": {},
   "outputs": [],
   "source": [
    "a = np.array([[0, 1, 2, 3], [4, 5, 6, 7], [8, 9, 10, 11]])"
   ]
  },
  {
   "cell_type": "code",
   "execution_count": 4,
   "metadata": {},
   "outputs": [
    {
     "data": {
      "text/plain": [
       "2"
      ]
     },
     "execution_count": 4,
     "metadata": {},
     "output_type": "execute_result"
    }
   ],
   "source": [
    "a.ndim"
   ]
  },
  {
   "cell_type": "code",
   "execution_count": 5,
   "metadata": {},
   "outputs": [
    {
     "data": {
      "text/plain": [
       "(3, 4)"
      ]
     },
     "execution_count": 5,
     "metadata": {},
     "output_type": "execute_result"
    }
   ],
   "source": [
    "a.shape"
   ]
  },
  {
   "cell_type": "code",
   "execution_count": 6,
   "metadata": {},
   "outputs": [
    {
     "data": {
      "text/plain": [
       "12"
      ]
     },
     "execution_count": 6,
     "metadata": {},
     "output_type": "execute_result"
    }
   ],
   "source": [
    "a.size"
   ]
  },
  {
   "cell_type": "code",
   "execution_count": 7,
   "metadata": {},
   "outputs": [
    {
     "data": {
      "text/plain": [
       "dtype('int32')"
      ]
     },
     "execution_count": 7,
     "metadata": {},
     "output_type": "execute_result"
    }
   ],
   "source": [
    "a.dtype"
   ]
  },
  {
   "cell_type": "markdown",
   "metadata": {},
   "source": [
    "###  ndarry的元素类型  \n",
    "数据类型\t|说明  \n",
    ":- | :- \n",
    "bool\t| 布尔类型，True或False\n",
    "intc\t|与C语言中的int类型一致，一般是int32或int64\n",
    "intp\t|用于索引的整数，与C语言中ssize_t一致，int32或int64 int8 字节长度的整数，取值:[‐128, 127]\n",
    "int16\t|16位长度的整数，取值:[‐32768, 32767]\n",
    "int32\t|32位长度的整数，取值:[‐231, 231‐1]\n",
    "int64\t|64位长度的整数，取值:[‐263, 263‐1]\n",
    "uint8\t|8位无符号整数，取值:[0, 255]\n",
    "uint16\t|16位无符号整数，取值:[0, 65535]\n",
    "uint32\t|32位无符号整数，取值:[0, 2^32‐1]\n",
    "uint64\t|64位无符号整数，取值:[0, 2^64‐1]\n",
    "float16\t|16位半精度浮点数:1位符号位，5位指数，10位尾数\n",
    "float32\t|32位半精度浮点数:1位符号位，8位指数，23位尾数\n",
    "float64\t|64位半精度浮点数:1位符号位，11位指数，52位尾数\n",
    "complex64\t|复数类型，实部和虚部都是32位浮点数\n",
    "complex128\t|复数类型，实部和虚部都是64位浮点数"
   ]
  },
  {
   "cell_type": "code",
   "execution_count": null,
   "metadata": {
    "collapsed": true
   },
   "outputs": [],
   "source": []
  }
 ],
 "metadata": {
  "kernelspec": {
   "display_name": "Python [conda env:tensorflow]",
   "language": "python",
   "name": "conda-env-tensorflow-py"
  },
  "language_info": {
   "codemirror_mode": {
    "name": "ipython",
    "version": 3
   },
   "file_extension": ".py",
   "mimetype": "text/x-python",
   "name": "python",
   "nbconvert_exporter": "python",
   "pygments_lexer": "ipython3",
   "version": "3.5.4"
  }
 },
 "nbformat": 4,
 "nbformat_minor": 2
}
