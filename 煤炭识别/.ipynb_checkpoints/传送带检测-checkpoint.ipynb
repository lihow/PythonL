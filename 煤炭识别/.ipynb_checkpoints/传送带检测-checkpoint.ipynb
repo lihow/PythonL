{
 "cells": [
  {
   "cell_type": "markdown",
   "metadata": {},
   "source": [
    "### 透视变换"
   ]
  },
  {
   "cell_type": "code",
   "execution_count": 3,
   "metadata": {},
   "outputs": [],
   "source": [
    "import numpy as np\n",
    "import cv2\n",
    "import matplotlib.pyplot as plt\n",
    "import pickle\n",
    "\n",
    "#透视变换\n",
    "def perspective_transfrom(img, M):\n",
    "    img_size = (img.shape[1], img.shape[0])\n",
    "    wraped = cv2.warpPerspective(img, M, img_size, flags=cv2.INTER_LINEAR)\n",
    "    return wraped\n",
    "\n",
    "#测试\n",
    "#这里采用顺时针\n",
    "corners = [(126, 63), (19, 250), (675, 262), (629, 62)]\n",
    "\n",
    "wrap_offset1 = (126 - 19) / 2\n",
    "wrap_offset2 = (675 - 629) / 2\n",
    "src_corners = [(126, 63), (19, 250), (675, 262), (629, 62)]\n",
    "dst_corners = [(19 + wrap_offset1, 63), (19 + wrap_offset1, 250), (629 + wrap_offset2, 262), (629 + wrap_offset2, 62)]\n",
    "M = cv2.getPerspectiveTransform(np.float32(src_corners), np.float32(dst_corners))\n",
    "\n",
    "straight_lines1 = cv2.imread('6.png')\n",
    "\n",
    "wrap_img = perspective_transfrom(straight_lines1, M)\n",
    "#cv2.imshow('img', straight_lines1)\n",
    "#cv2.imshow('wrap_img', wrap_img)\n",
    "#cv2.waitKey()"
   ]
  },
  {
   "cell_type": "markdown",
   "metadata": {},
   "source": [
    "### 边缘检测"
   ]
  },
  {
   "cell_type": "code",
   "execution_count": 4,
   "metadata": {},
   "outputs": [
    {
     "data": {
      "text/plain": [
       "-1"
      ]
     },
     "execution_count": 4,
     "metadata": {},
     "output_type": "execute_result"
    }
   ],
   "source": [
    "img = cv2.imread('sudoku.jpg', 0)\n",
    "\n",
    "'''\n",
    "laplacian = cv2.Laplacian(img, cv2.CV_64F)\n",
    "sobelx = cv2.Sobel(img, cv2.CV_64F, 1, 0, ksize=3)\n",
    "sobely = cv2.Sobel(img, cv2.CV_64F, 0, 1, ksize=3)\n",
    "\n",
    "cv2.imshow('Img', img)\n",
    "cv2.imshow('Laplaciaz', laplacian)\n",
    "cv2.imshow('SobelX', sobelx)\n",
    "cv2.imshow('SobelY', sobely)\n",
    "'''\n",
    "#选择sobelx 去检测\n",
    "cv2.imshow('wrap_img', wrap_img)\n",
    "\n",
    "gray = cv2.cvtColor(wrap_img, cv2.COLOR_RGB2GRAY)\n",
    "gray = cv2.Canny(gray, 100, 200)\n",
    "sobel_img = cv2.Sobel(gray, cv2.CV_64F, 1, 0, ksize=3)\n",
    "\n",
    "abs_sobel = np.absolute(sobel_img)\n",
    "scaled_sobel = np.uint8(255 * abs_sobel / np.max(abs_sobel))\n",
    "sxbinary = np.zeros_like(scaled_sobel)\n",
    "thresh=(0, 255)\n",
    "sxbinary[(scaled_sobel >= thresh[0]) & (scaled_sobel <= thresh[1])] = 1\n",
    "\n",
    "cv2.imshow('SobelImg', sxbinary)\n",
    "cv2.waitKey()"
   ]
  },
  {
   "cell_type": "code",
   "execution_count": 5,
   "metadata": {
    "collapsed": true
   },
   "outputs": [],
   "source": [
    "def abs_sobel_thresh(img, sobel_kernel=3, orient='x', thresh=(0, 255)):\n",
    "    gray = cv2.cvtColor(img, cv2.COLOR_RGB2GRAY)\n",
    "    if orient == 'x':\n",
    "        sobel = cv2.Sobel(gray, cv2.CV_64F, 1, 0, ksize=sobel_kernel)\n",
    "    else:\n",
    "        sobel = cv2.Sobel(gray, cv2.CV_64F, 0, 1, ksize=sobel_kernel)\n",
    "    abs_sobel = np.absolute(sobel)\n",
    "    scaled_sobel = np.uint8(255 * abs_sobel / np.max(abs_sobel))\n",
    "    sxbinary = np.zeros_like(scaled_sobel)\n",
    "    sxbinary[(scaled_sobel >= thresh[0]) & (scaled_sobel <= thresh[1])] = 1\n",
    "    return sxbinary\n",
    "\n",
    "\n",
    "def mag_thresh(img, sobel_kernel=3, mag_thresh=(0, 255)):\n",
    "    # Convert to grayscale\n",
    "    gray = cv2.cvtColor(img, cv2.COLOR_RGB2GRAY)\n",
    "    # Take both Sobel x and y gradients\n",
    "    sobelx = cv2.Sobel(gray, cv2.CV_64F, 1, 0, ksize=sobel_kernel)\n",
    "    sobely = cv2.Sobel(gray, cv2.CV_64F, 0, 1, ksize=sobel_kernel)\n",
    "    # Calculate the gradient magnitude\n",
    "    gradmag = np.sqrt(sobelx**2 + sobely**2)\n",
    "    # Rescale to 8 bit\n",
    "    scale_factor = np.max(gradmag)/255\n",
    "    gradmag = (gradmag/scale_factor).astype(np.uint8)\n",
    "    # Create a binary image of ones where threshold is met, zeros otherwise\n",
    "    binary_output = np.zeros_like(gradmag)\n",
    "    binary_output[(gradmag >= mag_thresh[0]) & (gradmag <= mag_thresh[1])] = 1\n",
    "\n",
    "    # Return the binary image\n",
    "    return binary_output\n",
    "\n",
    "\n",
    "def dir_threshold(img, sobel_kernel=3, thresh=(0, np.pi/2)):\n",
    "    # Grayscale\n",
    "    gray = cv2.cvtColor(img, cv2.COLOR_RGB2GRAY)\n",
    "    # Calculate the x and y gradients\n",
    "    sobelx = cv2.Sobel(gray, cv2.CV_64F, 1, 0, ksize=sobel_kernel)\n",
    "    sobely = cv2.Sobel(gray, cv2.CV_64F, 0, 1, ksize=sobel_kernel)\n",
    "    # Take the absolute value of the gradient direction,\n",
    "    # apply a threshold, and create a binary image result\n",
    "    absgraddir = np.arctan2(np.absolute(sobely), np.absolute(sobelx))\n",
    "    binary_output =  np.zeros_like(absgraddir)\n",
    "    binary_output[(absgraddir >= thresh[0]) & (absgraddir <= thresh[1])] = 1\n",
    "\n",
    "    # Return the binary image\n",
    "    return binary_output"
   ]
  },
  {
   "cell_type": "code",
   "execution_count": 6,
   "metadata": {},
   "outputs": [
    {
     "data": {
      "text/plain": [
       "-1"
      ]
     },
     "execution_count": 6,
     "metadata": {},
     "output_type": "execute_result"
    }
   ],
   "source": [
    "ksize = 9 # Choose a larger odd number to smooth gradient measurements\n",
    "# Apply each of the thresholding functions\n",
    "gradx = abs_sobel_thresh(wrap_img, orient='x', sobel_kernel=3, thresh=(20, 255))\n",
    "mag_binary = mag_thresh(wrap_img, sobel_kernel=3, mag_thresh=(30, 100))\n",
    "dir_binary = dir_threshold(wrap_img, sobel_kernel=15, thresh=(0.7, 1.3))\n",
    "\n",
    "cv2.imshow('wrap_img', wrap_img)\n",
    "cv2.imshow('Sobel_x_filter', gradx)\n",
    "cv2.imshow('Mag_threshold', mag_binary)\n",
    "cv2.imshow('Dir_threshold', mag_binary)\n",
    "cv2.waitKey()"
   ]
  },
  {
   "cell_type": "code",
   "execution_count": null,
   "metadata": {
    "collapsed": true
   },
   "outputs": [],
   "source": []
  }
 ],
 "metadata": {
  "kernelspec": {
   "display_name": "Python [conda env:tensorflow]",
   "language": "python",
   "name": "conda-env-tensorflow-py"
  },
  "language_info": {
   "codemirror_mode": {
    "name": "ipython",
    "version": 3
   },
   "file_extension": ".py",
   "mimetype": "text/x-python",
   "name": "python",
   "nbconvert_exporter": "python",
   "pygments_lexer": "ipython3",
   "version": "3.5.4"
  }
 },
 "nbformat": 4,
 "nbformat_minor": 2
}
