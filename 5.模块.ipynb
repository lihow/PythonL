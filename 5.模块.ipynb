{
 "cells": [
  {
   "cell_type": "markdown",
   "metadata": {},
   "source": [
    "为了编写可维护的代码，我们把很多函数分组，分别放到不同的文件里，这样，每个文件包含的代码就相对较少，很多编程语言都采用这种组织代码的方式。在Python中，一个.py文件就称之为一个模块（Module）  \n",
    "使用模块还可以避免函数名和变量名冲突，为了避免模块名冲突，Python又引入了按目录来组织模块的方法，称为包（Package）"
   ]
  },
  {
   "cell_type": "markdown",
   "metadata": {},
   "source": [
    "现在，假设我们的abc和xyz这两个模块名字与其他模块冲突了，于是我们可以通过包来组织模块，避免冲突。方法是选择一个顶层包名，比如mycompany，按照如下目录存放："
   ]
  },
  {
   "cell_type": "markdown",
   "metadata": {},
   "source": [
    "![5-1](https://github.com/lihow/PythonL/blob/master/IpyPic/5_1.png?raw=true)"
   ]
  },
  {
   "cell_type": "markdown",
   "metadata": {},
   "source": [
    "引入了包以后，只要顶层的包名不与别人冲突，那所有模块都不会与别人冲突。现在，abc.py模块的名字就变成了mycompany.abc，类似的，xyz.py的模块名变成了mycompany.xyz  \n",
    "请注意，每一个包目录下面都会有一个_ _init_ _.py的文件，这个文件是必须存在的，否则，Python就把这个目录当成普通目录，而不是一个包。__init__.py可以是空文件，也可以有Python代码，因为__init__.py本身就是一个模块，而它的模块名就是mycompany  \n",
    "类似的，可以有多级目录，组成多级层次的包结构。比如如下的目录结构  \n",
    "![](https://github.com/lihow/PythonL/blob/master/IpyPic/5-2.png?raw=true)  \n",
    "文件www.py的模块名就是mycompany.web.www，两个文件utils.py的模块名分别是mycompany.utils和mycompany.web.utils  \n",
    "自己创建模块时要注意命名，不能和Python自带的模块名称冲突。例如，系统自带了sys模块，自己的模块就不可命名为sys.py，否则将无法导入系统自带的sys模块"
   ]
  },
  {
   "cell_type": "markdown",
   "metadata": {},
   "source": [
    "## 使用模块"
   ]
  },
  {
   "cell_type": "code",
   "execution_count": 6,
   "metadata": {},
   "outputs": [
    {
     "name": "stdout",
     "output_type": "stream",
     "text": [
      "Too many arguments!\n"
     ]
    }
   ],
   "source": [
    "import hello\n",
    "hello.test()"
   ]
  },
  {
   "cell_type": "markdown",
   "metadata": {},
   "source": [
    "### 作用域"
   ]
  },
  {
   "cell_type": "markdown",
   "metadata": {},
   "source": [
    "函数和变量我们希望仅仅在模块内部使用。在Python中，是通过_前缀来实现的 ,正常的函数和变量名是公开的（public），可以被直接引用，比如：abc，x123，PI  \n",
    "类似_ _xxx_ _这样的变量是特殊变量，可以被直接引用，但是有特殊用途，比如上面的_ _author_ ，_ _name_ _就是特殊变量，hello模块定义的文档注释也可以用特殊变量_ _doc_ _访问，我们自己的变量一般不要用这种变量名  \n",
    "类似_xxx和_ _xxx这样的函数或变量就是非公开的（private），不应该被直接引用，比如_abc，_abc等\n",
    "之所以我们说，private函数和变量“不应该”被直接引用，而不是“不能”被直接引用，是因为Python并没有一种方法可以完全限制访问private函数或变量"
   ]
  },
  {
   "cell_type": "code",
   "execution_count": 7,
   "metadata": {
    "collapsed": true
   },
   "outputs": [],
   "source": [
    "def _private_1(name):\n",
    "    return 'Hello, %s' % name\n",
    "def _private_2(name):\n",
    "    return 'Hi, %s' % name\n",
    "def greeting(name):\n",
    "    if len(name) > 3:\n",
    "        return _private_1(name)\n",
    "    else:\n",
    "        return _private_2(name)"
   ]
  },
  {
   "cell_type": "markdown",
   "metadata": {},
   "source": [
    "## 安装第三方模块"
   ]
  },
  {
   "cell_type": "markdown",
   "metadata": {},
   "source": [
    "当我们试图加载一个模块时，Python会在指定的路径下搜索对应的.py文件，如果找不到，就会报错  \n",
    "默认情况下，Python解释器会搜索当前目录、所有已安装的内置模块和第三方模块，搜索路径存放在sys模块的path变量中"
   ]
  },
  {
   "cell_type": "code",
   "execution_count": 8,
   "metadata": {},
   "outputs": [
    {
     "data": {
      "text/plain": [
       "['',\n",
       " 'D:\\\\Users\\\\Lenovo\\\\Anaconda2\\\\envs\\\\tensorflow\\\\python35.zip',\n",
       " 'D:\\\\Users\\\\Lenovo\\\\Anaconda2\\\\envs\\\\tensorflow\\\\DLLs',\n",
       " 'D:\\\\Users\\\\Lenovo\\\\Anaconda2\\\\envs\\\\tensorflow\\\\lib',\n",
       " 'D:\\\\Users\\\\Lenovo\\\\Anaconda2\\\\envs\\\\tensorflow',\n",
       " 'D:\\\\Users\\\\Lenovo\\\\Anaconda2\\\\envs\\\\tensorflow\\\\lib\\\\site-packages',\n",
       " 'D:\\\\Users\\\\Lenovo\\\\Anaconda2\\\\envs\\\\tensorflow\\\\lib\\\\site-packages\\\\Babel-2.5.0-py3.5.egg',\n",
       " 'D:\\\\Users\\\\Lenovo\\\\Anaconda2\\\\envs\\\\tensorflow\\\\lib\\\\site-packages\\\\IPython\\\\extensions',\n",
       " 'C:\\\\Users\\\\Lenovo\\\\.ipython']"
      ]
     },
     "execution_count": 8,
     "metadata": {},
     "output_type": "execute_result"
    }
   ],
   "source": [
    "import sys\n",
    "sys.path"
   ]
  },
  {
   "cell_type": "markdown",
   "metadata": {},
   "source": [
    "如果我们要添加自己的搜索目录，有两种方法:  \n",
    "一是直接修改sys.path，添加要搜索的目录,这种方法是在运行时修改，运行结束后失效  \n",
    "第二种方法是设置环境变量PYTHONPATH，该环境变量的内容会被自动添加到模块搜索路径中。设置方式与设置Path环境变量类似。注意只需要添加你自己的搜索路径，Python自己本身的搜索路径不受影响。"
   ]
  }
 ],
 "metadata": {
  "kernelspec": {
   "display_name": "Python [conda env:tensorflow]",
   "language": "python",
   "name": "conda-env-tensorflow-py"
  },
  "language_info": {
   "codemirror_mode": {
    "name": "ipython",
    "version": 3
   },
   "file_extension": ".py",
   "mimetype": "text/x-python",
   "name": "python",
   "nbconvert_exporter": "python",
   "pygments_lexer": "ipython3",
   "version": "3.5.4"
  }
 },
 "nbformat": 4,
 "nbformat_minor": 2
}
