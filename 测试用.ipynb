{
 "cells": [
  {
   "cell_type": "code",
   "execution_count": 17,
   "metadata": {},
   "outputs": [
    {
     "name": "stdout",
     "output_type": "stream",
     "text": [
      "[0 2 1]\n"
     ]
    }
   ],
   "source": [
    "import numpy as np\n",
    "clost_y = []\n",
    "data = [1, 3, 2, 4, 5]\n",
    "a = np.array(data)\n",
    "'''\n",
    "print(a.argsort()[-3:][::-1])\n",
    "for x in a.argsort()[-3:][::-1]:\n",
    "    clost_y.append(x)\n",
    "clost_y.sort()\n",
    "print(clost_y[0])\n",
    "'''\n",
    "print(np.argsort(a)[:3])"
   ]
  },
  {
   "cell_type": "code",
   "execution_count": null,
   "metadata": {
    "collapsed": true
   },
   "outputs": [],
   "source": []
  }
 ],
 "metadata": {
  "kernelspec": {
   "display_name": "Python [conda env:tensorflow]",
   "language": "python",
   "name": "conda-env-tensorflow-py"
  },
  "language_info": {
   "codemirror_mode": {
    "name": "ipython",
    "version": 3
   },
   "file_extension": ".py",
   "mimetype": "text/x-python",
   "name": "python",
   "nbconvert_exporter": "python",
   "pygments_lexer": "ipython3",
   "version": "3.5.4"
  }
 },
 "nbformat": 4,
 "nbformat_minor": 2
}
