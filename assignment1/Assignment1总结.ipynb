{
 "cells": [
  {
   "cell_type": "markdown",
   "metadata": {},
   "source": [
    "## KNN"
   ]
  },
  {
   "cell_type": "markdown",
   "metadata": {},
   "source": [
    "### 交叉验证"
   ]
  },
  {
   "cell_type": "markdown",
   "metadata": {},
   "source": [
    "交叉验证是在验证集上，可以更好的利用数据集，将验证集分为n个部分，对于参数一定的情况下，每次抽出n个中的一个作为验证集，剩下n-1个作为训练集，对于一个参数可以验证n次  \n",
    "在knn中寻找k的值，可以对于每一个k可以采用交叉验证n次，得出其优劣"
   ]
  },
  {
   "cell_type": "markdown",
   "metadata": {
    "collapsed": true
   },
   "source": [
    "### svm与softmax"
   ]
  },
  {
   "cell_type": "markdown",
   "metadata": {},
   "source": [
    "svm和softmax在模型训练时用，用来计算loss的两种方式  \n",
    "例如：input-->FC-->RELU-->FC-->softmax  \n",
    "上面只是训练网络\n",
    "在预测时使用input-->FC-->RELU-->FC--->output"
   ]
  }
 ],
 "metadata": {
  "kernelspec": {
   "display_name": "Python [conda env:tensorflow]",
   "language": "python",
   "name": "conda-env-tensorflow-py"
  },
  "language_info": {
   "codemirror_mode": {
    "name": "ipython",
    "version": 3
   },
   "file_extension": ".py",
   "mimetype": "text/x-python",
   "name": "python",
   "nbconvert_exporter": "python",
   "pygments_lexer": "ipython3",
   "version": "3.5.4"
  }
 },
 "nbformat": 4,
 "nbformat_minor": 2
}
